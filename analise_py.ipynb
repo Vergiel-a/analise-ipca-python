{
 "cells": [
  {
   "cell_type": "code",
   "execution_count": null,
   "id": "a4a43ffd",
   "metadata": {},
   "outputs": [],
   "source": [
    "!pip install sidrapy\n",
    "!pip install pandas\n",
    "!pip install numpy\n",
    "!pip install seaborn\n",
    "!pip install matplotlib"
   ]
  },
  {
   "cell_type": "code",
   "execution_count": 2,
   "id": "87ad4f43",
   "metadata": {},
   "outputs": [],
   "source": [
    "import sidrapy\n",
    "\n",
    "import pandas as pd\n",
    "import numpy as np\n",
    "\n",
    "import seaborn as sns\n",
    "from matplotlib import pyplot as plt"
   ]
  },
  {
   "cell_type": "code",
   "execution_count": 3,
   "id": "014d2edf",
   "metadata": {},
   "outputs": [],
   "source": [
    "ipca_raw = sidrapy.get_table(table_code = '1737',\n",
    "                            territorial_level = '1',\n",
    "                            ibge_territorial_code = 'all',\n",
    "                            variable = '2265',\n",
    "                            period = 'all',\n",
    "                            header = 'n')"
   ]
  },
  {
   "cell_type": "code",
   "execution_count": 4,
   "id": "862f796d",
   "metadata": {},
   "outputs": [
    {
     "data": {
      "text/html": [
       "<div>\n",
       "<style scoped>\n",
       "    .dataframe tbody tr th:only-of-type {\n",
       "        vertical-align: middle;\n",
       "    }\n",
       "\n",
       "    .dataframe tbody tr th {\n",
       "        vertical-align: top;\n",
       "    }\n",
       "\n",
       "    .dataframe thead th {\n",
       "        text-align: right;\n",
       "    }\n",
       "</style>\n",
       "<table border=\"1\" class=\"dataframe\">\n",
       "  <thead>\n",
       "    <tr style=\"text-align: right;\">\n",
       "      <th></th>\n",
       "      <th>NC</th>\n",
       "      <th>NN</th>\n",
       "      <th>MC</th>\n",
       "      <th>MN</th>\n",
       "      <th>V</th>\n",
       "      <th>D1C</th>\n",
       "      <th>D1N</th>\n",
       "      <th>D2C</th>\n",
       "      <th>D2N</th>\n",
       "      <th>D3C</th>\n",
       "      <th>D3N</th>\n",
       "    </tr>\n",
       "  </thead>\n",
       "  <tbody>\n",
       "    <tr>\n",
       "      <th>0</th>\n",
       "      <td>1</td>\n",
       "      <td>Brasil</td>\n",
       "      <td></td>\n",
       "      <td></td>\n",
       "      <td>...</td>\n",
       "      <td>1</td>\n",
       "      <td>Brasil</td>\n",
       "      <td>197912</td>\n",
       "      <td>dezembro 1979</td>\n",
       "      <td>2265</td>\n",
       "      <td>IPCA - Variação acumulada em 12 meses</td>\n",
       "    </tr>\n",
       "    <tr>\n",
       "      <th>1</th>\n",
       "      <td>1</td>\n",
       "      <td>Brasil</td>\n",
       "      <td></td>\n",
       "      <td></td>\n",
       "      <td>...</td>\n",
       "      <td>1</td>\n",
       "      <td>Brasil</td>\n",
       "      <td>198001</td>\n",
       "      <td>janeiro 1980</td>\n",
       "      <td>2265</td>\n",
       "      <td>IPCA - Variação acumulada em 12 meses</td>\n",
       "    </tr>\n",
       "    <tr>\n",
       "      <th>2</th>\n",
       "      <td>1</td>\n",
       "      <td>Brasil</td>\n",
       "      <td></td>\n",
       "      <td></td>\n",
       "      <td>...</td>\n",
       "      <td>1</td>\n",
       "      <td>Brasil</td>\n",
       "      <td>198002</td>\n",
       "      <td>fevereiro 1980</td>\n",
       "      <td>2265</td>\n",
       "      <td>IPCA - Variação acumulada em 12 meses</td>\n",
       "    </tr>\n",
       "    <tr>\n",
       "      <th>3</th>\n",
       "      <td>1</td>\n",
       "      <td>Brasil</td>\n",
       "      <td></td>\n",
       "      <td></td>\n",
       "      <td>...</td>\n",
       "      <td>1</td>\n",
       "      <td>Brasil</td>\n",
       "      <td>198003</td>\n",
       "      <td>março 1980</td>\n",
       "      <td>2265</td>\n",
       "      <td>IPCA - Variação acumulada em 12 meses</td>\n",
       "    </tr>\n",
       "    <tr>\n",
       "      <th>4</th>\n",
       "      <td>1</td>\n",
       "      <td>Brasil</td>\n",
       "      <td></td>\n",
       "      <td></td>\n",
       "      <td>...</td>\n",
       "      <td>1</td>\n",
       "      <td>Brasil</td>\n",
       "      <td>198004</td>\n",
       "      <td>abril 1980</td>\n",
       "      <td>2265</td>\n",
       "      <td>IPCA - Variação acumulada em 12 meses</td>\n",
       "    </tr>\n",
       "    <tr>\n",
       "      <th>...</th>\n",
       "      <td>...</td>\n",
       "      <td>...</td>\n",
       "      <td>...</td>\n",
       "      <td>...</td>\n",
       "      <td>...</td>\n",
       "      <td>...</td>\n",
       "      <td>...</td>\n",
       "      <td>...</td>\n",
       "      <td>...</td>\n",
       "      <td>...</td>\n",
       "      <td>...</td>\n",
       "    </tr>\n",
       "    <tr>\n",
       "      <th>508</th>\n",
       "      <td>1</td>\n",
       "      <td>Brasil</td>\n",
       "      <td>2</td>\n",
       "      <td>%</td>\n",
       "      <td>12.13</td>\n",
       "      <td>1</td>\n",
       "      <td>Brasil</td>\n",
       "      <td>202204</td>\n",
       "      <td>abril 2022</td>\n",
       "      <td>2265</td>\n",
       "      <td>IPCA - Variação acumulada em 12 meses</td>\n",
       "    </tr>\n",
       "    <tr>\n",
       "      <th>509</th>\n",
       "      <td>1</td>\n",
       "      <td>Brasil</td>\n",
       "      <td>2</td>\n",
       "      <td>%</td>\n",
       "      <td>11.73</td>\n",
       "      <td>1</td>\n",
       "      <td>Brasil</td>\n",
       "      <td>202205</td>\n",
       "      <td>maio 2022</td>\n",
       "      <td>2265</td>\n",
       "      <td>IPCA - Variação acumulada em 12 meses</td>\n",
       "    </tr>\n",
       "    <tr>\n",
       "      <th>510</th>\n",
       "      <td>1</td>\n",
       "      <td>Brasil</td>\n",
       "      <td>2</td>\n",
       "      <td>%</td>\n",
       "      <td>11.89</td>\n",
       "      <td>1</td>\n",
       "      <td>Brasil</td>\n",
       "      <td>202206</td>\n",
       "      <td>junho 2022</td>\n",
       "      <td>2265</td>\n",
       "      <td>IPCA - Variação acumulada em 12 meses</td>\n",
       "    </tr>\n",
       "    <tr>\n",
       "      <th>511</th>\n",
       "      <td>1</td>\n",
       "      <td>Brasil</td>\n",
       "      <td>2</td>\n",
       "      <td>%</td>\n",
       "      <td>10.07</td>\n",
       "      <td>1</td>\n",
       "      <td>Brasil</td>\n",
       "      <td>202207</td>\n",
       "      <td>julho 2022</td>\n",
       "      <td>2265</td>\n",
       "      <td>IPCA - Variação acumulada em 12 meses</td>\n",
       "    </tr>\n",
       "    <tr>\n",
       "      <th>512</th>\n",
       "      <td>1</td>\n",
       "      <td>Brasil</td>\n",
       "      <td>2</td>\n",
       "      <td>%</td>\n",
       "      <td>8.73</td>\n",
       "      <td>1</td>\n",
       "      <td>Brasil</td>\n",
       "      <td>202208</td>\n",
       "      <td>agosto 2022</td>\n",
       "      <td>2265</td>\n",
       "      <td>IPCA - Variação acumulada em 12 meses</td>\n",
       "    </tr>\n",
       "  </tbody>\n",
       "</table>\n",
       "<p>513 rows × 11 columns</p>\n",
       "</div>"
      ],
      "text/plain": [
       "    NC      NN MC MN      V D1C     D1N     D2C             D2N   D3C  \\\n",
       "0    1  Brasil          ...   1  Brasil  197912   dezembro 1979  2265   \n",
       "1    1  Brasil          ...   1  Brasil  198001    janeiro 1980  2265   \n",
       "2    1  Brasil          ...   1  Brasil  198002  fevereiro 1980  2265   \n",
       "3    1  Brasil          ...   1  Brasil  198003      março 1980  2265   \n",
       "4    1  Brasil          ...   1  Brasil  198004      abril 1980  2265   \n",
       "..  ..     ... .. ..    ...  ..     ...     ...             ...   ...   \n",
       "508  1  Brasil  2  %  12.13   1  Brasil  202204      abril 2022  2265   \n",
       "509  1  Brasil  2  %  11.73   1  Brasil  202205       maio 2022  2265   \n",
       "510  1  Brasil  2  %  11.89   1  Brasil  202206      junho 2022  2265   \n",
       "511  1  Brasil  2  %  10.07   1  Brasil  202207      julho 2022  2265   \n",
       "512  1  Brasil  2  %   8.73   1  Brasil  202208     agosto 2022  2265   \n",
       "\n",
       "                                       D3N  \n",
       "0    IPCA - Variação acumulada em 12 meses  \n",
       "1    IPCA - Variação acumulada em 12 meses  \n",
       "2    IPCA - Variação acumulada em 12 meses  \n",
       "3    IPCA - Variação acumulada em 12 meses  \n",
       "4    IPCA - Variação acumulada em 12 meses  \n",
       "..                                     ...  \n",
       "508  IPCA - Variação acumulada em 12 meses  \n",
       "509  IPCA - Variação acumulada em 12 meses  \n",
       "510  IPCA - Variação acumulada em 12 meses  \n",
       "511  IPCA - Variação acumulada em 12 meses  \n",
       "512  IPCA - Variação acumulada em 12 meses  \n",
       "\n",
       "[513 rows x 11 columns]"
      ]
     },
     "execution_count": 4,
     "metadata": {},
     "output_type": "execute_result"
    }
   ],
   "source": [
    "ipca_raw"
   ]
  },
  {
   "cell_type": "code",
   "execution_count": 29,
   "id": "00f8a42f",
   "metadata": {},
   "outputs": [],
   "source": [
    "ipca = (\n",
    "        ipca_raw\n",
    "        .loc[0:, ['V', 'D2C']]\n",
    "        .rename(columns = {'V': 'ipca',\n",
    "                          'D2C': 'date'})\n",
    "\n",
    ")"
   ]
  },
  {
   "cell_type": "code",
   "execution_count": 20,
   "id": "26731247",
   "metadata": {},
   "outputs": [
    {
     "data": {
      "text/html": [
       "<div>\n",
       "<style scoped>\n",
       "    .dataframe tbody tr th:only-of-type {\n",
       "        vertical-align: middle;\n",
       "    }\n",
       "\n",
       "    .dataframe tbody tr th {\n",
       "        vertical-align: top;\n",
       "    }\n",
       "\n",
       "    .dataframe thead th {\n",
       "        text-align: right;\n",
       "    }\n",
       "</style>\n",
       "<table border=\"1\" class=\"dataframe\">\n",
       "  <thead>\n",
       "    <tr style=\"text-align: right;\">\n",
       "      <th></th>\n",
       "      <th>ipca</th>\n",
       "      <th>date</th>\n",
       "    </tr>\n",
       "  </thead>\n",
       "  <tbody>\n",
       "    <tr>\n",
       "      <th>0</th>\n",
       "      <td>...</td>\n",
       "      <td>197912</td>\n",
       "    </tr>\n",
       "    <tr>\n",
       "      <th>1</th>\n",
       "      <td>...</td>\n",
       "      <td>198001</td>\n",
       "    </tr>\n",
       "    <tr>\n",
       "      <th>2</th>\n",
       "      <td>...</td>\n",
       "      <td>198002</td>\n",
       "    </tr>\n",
       "    <tr>\n",
       "      <th>3</th>\n",
       "      <td>...</td>\n",
       "      <td>198003</td>\n",
       "    </tr>\n",
       "    <tr>\n",
       "      <th>4</th>\n",
       "      <td>...</td>\n",
       "      <td>198004</td>\n",
       "    </tr>\n",
       "    <tr>\n",
       "      <th>...</th>\n",
       "      <td>...</td>\n",
       "      <td>...</td>\n",
       "    </tr>\n",
       "    <tr>\n",
       "      <th>508</th>\n",
       "      <td>12.13</td>\n",
       "      <td>202204</td>\n",
       "    </tr>\n",
       "    <tr>\n",
       "      <th>509</th>\n",
       "      <td>11.73</td>\n",
       "      <td>202205</td>\n",
       "    </tr>\n",
       "    <tr>\n",
       "      <th>510</th>\n",
       "      <td>11.89</td>\n",
       "      <td>202206</td>\n",
       "    </tr>\n",
       "    <tr>\n",
       "      <th>511</th>\n",
       "      <td>10.07</td>\n",
       "      <td>202207</td>\n",
       "    </tr>\n",
       "    <tr>\n",
       "      <th>512</th>\n",
       "      <td>8.73</td>\n",
       "      <td>202208</td>\n",
       "    </tr>\n",
       "  </tbody>\n",
       "</table>\n",
       "<p>513 rows × 2 columns</p>\n",
       "</div>"
      ],
      "text/plain": [
       "      ipca    date\n",
       "0      ...  197912\n",
       "1      ...  198001\n",
       "2      ...  198002\n",
       "3      ...  198003\n",
       "4      ...  198004\n",
       "..     ...     ...\n",
       "508  12.13  202204\n",
       "509  11.73  202205\n",
       "510  11.89  202206\n",
       "511  10.07  202207\n",
       "512   8.73  202208\n",
       "\n",
       "[513 rows x 2 columns]"
      ]
     },
     "execution_count": 20,
     "metadata": {},
     "output_type": "execute_result"
    }
   ],
   "source": [
    "ipca"
   ]
  },
  {
   "cell_type": "code",
   "execution_count": 31,
   "id": "f0ad275f",
   "metadata": {},
   "outputs": [],
   "source": [
    "ipca = ipca.loc[ipca.date >= '2004-01-01']"
   ]
  },
  {
   "cell_type": "code",
   "execution_count": 33,
   "id": "8de7ccd7",
   "metadata": {},
   "outputs": [],
   "source": [
    "ipca['date'] = pd.to_datetime(ipca['date'],\n",
    "                             format = '%Y%m')"
   ]
  },
  {
   "cell_type": "code",
   "execution_count": 35,
   "id": "6d18fcda",
   "metadata": {},
   "outputs": [],
   "source": [
    "ipca['ipca'] = ipca['ipca'].astype(float)"
   ]
  },
  {
   "cell_type": "code",
   "execution_count": 37,
   "id": "827c652a",
   "metadata": {},
   "outputs": [
    {
     "data": {
      "text/html": [
       "<div>\n",
       "<style scoped>\n",
       "    .dataframe tbody tr th:only-of-type {\n",
       "        vertical-align: middle;\n",
       "    }\n",
       "\n",
       "    .dataframe tbody tr th {\n",
       "        vertical-align: top;\n",
       "    }\n",
       "\n",
       "    .dataframe thead th {\n",
       "        text-align: right;\n",
       "    }\n",
       "</style>\n",
       "<table border=\"1\" class=\"dataframe\">\n",
       "  <thead>\n",
       "    <tr style=\"text-align: right;\">\n",
       "      <th></th>\n",
       "      <th>ipca</th>\n",
       "    </tr>\n",
       "  </thead>\n",
       "  <tbody>\n",
       "    <tr>\n",
       "      <th>count</th>\n",
       "      <td>224.000000</td>\n",
       "    </tr>\n",
       "    <tr>\n",
       "      <th>mean</th>\n",
       "      <td>5.832232</td>\n",
       "    </tr>\n",
       "    <tr>\n",
       "      <th>std</th>\n",
       "      <td>2.194217</td>\n",
       "    </tr>\n",
       "    <tr>\n",
       "      <th>min</th>\n",
       "      <td>1.880000</td>\n",
       "    </tr>\n",
       "    <tr>\n",
       "      <th>25%</th>\n",
       "      <td>4.290000</td>\n",
       "    </tr>\n",
       "    <tr>\n",
       "      <th>50%</th>\n",
       "      <td>5.685000</td>\n",
       "    </tr>\n",
       "    <tr>\n",
       "      <th>75%</th>\n",
       "      <td>6.752500</td>\n",
       "    </tr>\n",
       "    <tr>\n",
       "      <th>max</th>\n",
       "      <td>12.130000</td>\n",
       "    </tr>\n",
       "  </tbody>\n",
       "</table>\n",
       "</div>"
      ],
      "text/plain": [
       "             ipca\n",
       "count  224.000000\n",
       "mean     5.832232\n",
       "std      2.194217\n",
       "min      1.880000\n",
       "25%      4.290000\n",
       "50%      5.685000\n",
       "75%      6.752500\n",
       "max     12.130000"
      ]
     },
     "execution_count": 37,
     "metadata": {},
     "output_type": "execute_result"
    }
   ],
   "source": [
    "ipca.describe()"
   ]
  },
  {
   "cell_type": "code",
   "execution_count": 38,
   "id": "c70ae080",
   "metadata": {},
   "outputs": [
    {
     "data": {
      "text/plain": [
       "<AxesSubplot:xlabel='date', ylabel='ipca'>"
      ]
     },
     "execution_count": 38,
     "metadata": {},
     "output_type": "execute_result"
    },
    {
     "data": {
      "image/png": "[encoded data removed]",
      "text/plain": [
       "<Figure size 432x288 with 1 Axes>"
      ]
     },
     "metadata": {
      "needs_background": "light"
     },
     "output_type": "display_data"
    }
   ],
   "source": [
    "sns.lineplot(x = 'date',\n",
    "            y = 'ipca',\n",
    "            data = ipca)"
   ]
  },
  {
   "cell_type": "code",
   "execution_count": 39,
   "id": "22b98355",
   "metadata": {},
   "outputs": [
    {
     "data": {
      "text/plain": [
       "<AxesSubplot:xlabel='ipca', ylabel='Count'>"
      ]
     },
     "execution_count": 39,
     "metadata": {},
     "output_type": "execute_result"
    },
    {
     "data": {
      "image/png": "[encoded data removed]",
      "text/plain": [
       "<Figure size 432x288 with 1 Axes>"
      ]
     },
     "metadata": {
      "needs_background": "light"
     },
     "output_type": "display_data"
    }
   ],
   "source": [
    "sns.histplot(x = 'ipca',\n",
    "            data = ipca)"
   ]
  },
  {
   "cell_type": "code",
   "execution_count": 40,
   "id": "50dea747",
   "metadata": {},
   "outputs": [
    {
     "data": {
      "text/plain": [
       "<AxesSubplot:ylabel='ipca'>"
      ]
     },
     "execution_count": 40,
     "metadata": {},
     "output_type": "execute_result"
    },
    {
     "data": {
      "image/png": "[encoded data removed]",
      "text/plain": [
       "<Figure size 432x288 with 1 Axes>"
      ]
     },
     "metadata": {
      "needs_background": "light"
     },
     "output_type": "display_data"
    }
   ],
   "source": [
    "sns.boxplot(y = 'ipca',\n",
    "            data = ipca)"
   ]
  },
  {
   "cell_type": "code",
   "execution_count": 41,
   "id": "9309881d",
   "metadata": {},
   "outputs": [],
   "source": [
    "# Taxa de desocupação - % - PNADC-M/IBGE\n",
    "desocupacao_raw = sidrapy.get_table(table_code= \"6381\",\n",
    "                                    territorial_level = \"1\",\n",
    "                                    ibge_territorial_code = \"all\",\n",
    "                                    variable = \"4099\",\n",
    "                                    period = \"all\",\n",
    "                                    header ='n')\n",
    "# Realiza a limpeza e manipulação da tabela\n",
    "desocupacao =  (\n",
    "     desocupacao_raw\n",
    "    .loc[0:,['V', 'D2C']]\n",
    "    .rename(columns = {'V': 'desocupacao',\n",
    "                       'D2C': 'date',}\n",
    "            )\n",
    "      )\n",
    "# Transforma a coluna date em tipo datetime\n",
    "desocupacao['date'] = pd.to_datetime(desocupacao['date'],\n",
    "                                format = \"%Y%m\")\n",
    "\n",
    "# Filtra os dados\n",
    "desocupacao = desocupacao.loc[desocupacao.date > '2004-01-01']\n",
    "\n",
    "# Transforma a coluna ipca em tipo float\n",
    "desocupacao['desocupacao'] = desocupacao['desocupacao'].astype(float)\n",
    "\n",
    "# Junta os dados\n",
    "df_dados = pd.merge(ipca, desocupacao, on = 'date')"
   ]
  },
  {
   "cell_type": "code",
   "execution_count": 43,
   "id": "95ccfe7d",
   "metadata": {},
   "outputs": [
    {
     "data": {
      "text/html": [
       "<div>\n",
       "<style scoped>\n",
       "    .dataframe tbody tr th:only-of-type {\n",
       "        vertical-align: middle;\n",
       "    }\n",
       "\n",
       "    .dataframe tbody tr th {\n",
       "        vertical-align: top;\n",
       "    }\n",
       "\n",
       "    .dataframe thead th {\n",
       "        text-align: right;\n",
       "    }\n",
       "</style>\n",
       "<table border=\"1\" class=\"dataframe\">\n",
       "  <thead>\n",
       "    <tr style=\"text-align: right;\">\n",
       "      <th></th>\n",
       "      <th>ipca</th>\n",
       "      <th>date</th>\n",
       "      <th>desocupacao</th>\n",
       "    </tr>\n",
       "  </thead>\n",
       "  <tbody>\n",
       "    <tr>\n",
       "      <th>0</th>\n",
       "      <td>5.24</td>\n",
       "      <td>2012-03-01</td>\n",
       "      <td>8.0</td>\n",
       "    </tr>\n",
       "    <tr>\n",
       "      <th>1</th>\n",
       "      <td>5.10</td>\n",
       "      <td>2012-04-01</td>\n",
       "      <td>7.8</td>\n",
       "    </tr>\n",
       "    <tr>\n",
       "      <th>2</th>\n",
       "      <td>4.99</td>\n",
       "      <td>2012-05-01</td>\n",
       "      <td>7.7</td>\n",
       "    </tr>\n",
       "    <tr>\n",
       "      <th>3</th>\n",
       "      <td>4.92</td>\n",
       "      <td>2012-06-01</td>\n",
       "      <td>7.6</td>\n",
       "    </tr>\n",
       "    <tr>\n",
       "      <th>4</th>\n",
       "      <td>5.20</td>\n",
       "      <td>2012-07-01</td>\n",
       "      <td>7.5</td>\n",
       "    </tr>\n",
       "    <tr>\n",
       "      <th>...</th>\n",
       "      <td>...</td>\n",
       "      <td>...</td>\n",
       "      <td>...</td>\n",
       "    </tr>\n",
       "    <tr>\n",
       "      <th>120</th>\n",
       "      <td>11.30</td>\n",
       "      <td>2022-03-01</td>\n",
       "      <td>11.1</td>\n",
       "    </tr>\n",
       "    <tr>\n",
       "      <th>121</th>\n",
       "      <td>12.13</td>\n",
       "      <td>2022-04-01</td>\n",
       "      <td>10.5</td>\n",
       "    </tr>\n",
       "    <tr>\n",
       "      <th>122</th>\n",
       "      <td>11.73</td>\n",
       "      <td>2022-05-01</td>\n",
       "      <td>9.8</td>\n",
       "    </tr>\n",
       "    <tr>\n",
       "      <th>123</th>\n",
       "      <td>11.89</td>\n",
       "      <td>2022-06-01</td>\n",
       "      <td>9.3</td>\n",
       "    </tr>\n",
       "    <tr>\n",
       "      <th>124</th>\n",
       "      <td>10.07</td>\n",
       "      <td>2022-07-01</td>\n",
       "      <td>9.1</td>\n",
       "    </tr>\n",
       "  </tbody>\n",
       "</table>\n",
       "<p>125 rows × 3 columns</p>\n",
       "</div>"
      ],
      "text/plain": [
       "      ipca       date  desocupacao\n",
       "0     5.24 2012-03-01          8.0\n",
       "1     5.10 2012-04-01          7.8\n",
       "2     4.99 2012-05-01          7.7\n",
       "3     4.92 2012-06-01          7.6\n",
       "4     5.20 2012-07-01          7.5\n",
       "..     ...        ...          ...\n",
       "120  11.30 2022-03-01         11.1\n",
       "121  12.13 2022-04-01         10.5\n",
       "122  11.73 2022-05-01          9.8\n",
       "123  11.89 2022-06-01          9.3\n",
       "124  10.07 2022-07-01          9.1\n",
       "\n",
       "[125 rows x 3 columns]"
      ]
     },
     "execution_count": 43,
     "metadata": {},
     "output_type": "execute_result"
    }
   ],
   "source": [
    "df_dados"
   ]
  },
  {
   "cell_type": "code",
   "execution_count": 44,
   "id": "944fdd4a",
   "metadata": {},
   "outputs": [
    {
     "data": {
      "image/png": "[encoded data removed]",
      "text/plain": [
       "<Figure size 432x288 with 1 Axes>"
      ]
     },
     "metadata": {
      "needs_background": "light"
     },
     "output_type": "display_data"
    }
   ],
   "source": [
    "plt.plot('date',\n",
    "         'ipca',\n",
    "        data = df_dados,\n",
    "        label = 'ipca')\n",
    "\n",
    "plt.plot('date',\n",
    "        'desocupacao',\n",
    "        data = df_dados,\n",
    "        label = 'desemprego')\n",
    "\n",
    "plt.legend()\n",
    "\n",
    "plt.show()"
   ]
  },
  {
   "cell_type": "code",
   "execution_count": 45,
   "id": "2b7c12c5",
   "metadata": {},
   "outputs": [],
   "source": [
    "import statsmodels.formula.api as smf\n",
    "\n"
   ]
  },
  {
   "cell_type": "code",
   "execution_count": 48,
   "id": "43169240",
   "metadata": {},
   "outputs": [],
   "source": [
    "modelo = smf.ols('ipca ~ desocupacao', data = df_dados).fit()"
   ]
  },
  {
   "cell_type": "code",
   "execution_count": 50,
   "id": "d6c9bf90",
   "metadata": {},
   "outputs": [
    {
     "data": {
      "text/html": [
       "<table class=\"simpletable\">\n",
       "<caption>OLS Regression Results</caption>\n",
       "<tr>\n",
       "  <th>Dep. Variable:</th>          <td>ipca</td>       <th>  R-squared:         </th> <td>   0.093</td>\n",
       "</tr>\n",
       "<tr>\n",
       "  <th>Model:</th>                   <td>OLS</td>       <th>  Adj. R-squared:    </th> <td>   0.086</td>\n",
       "</tr>\n",
       "<tr>\n",
       "  <th>Method:</th>             <td>Least Squares</td>  <th>  F-statistic:       </th> <td>   12.61</td>\n",
       "</tr>\n",
       "<tr>\n",
       "  <th>Date:</th>             <td>Mon, 26 Sep 2022</td> <th>  Prob (F-statistic):</th> <td>0.000543</td>\n",
       "</tr>\n",
       "<tr>\n",
       "  <th>Time:</th>                 <td>16:10:03</td>     <th>  Log-Likelihood:    </th> <td> -292.98</td>\n",
       "</tr>\n",
       "<tr>\n",
       "  <th>No. Observations:</th>      <td>   125</td>      <th>  AIC:               </th> <td>   590.0</td>\n",
       "</tr>\n",
       "<tr>\n",
       "  <th>Df Residuals:</th>          <td>   123</td>      <th>  BIC:               </th> <td>   595.6</td>\n",
       "</tr>\n",
       "<tr>\n",
       "  <th>Df Model:</th>              <td>     1</td>      <th>                     </th>     <td> </td>   \n",
       "</tr>\n",
       "<tr>\n",
       "  <th>Covariance Type:</th>      <td>nonrobust</td>    <th>                     </th>     <td> </td>   \n",
       "</tr>\n",
       "</table>\n",
       "<table class=\"simpletable\">\n",
       "<tr>\n",
       "       <td></td>          <th>coef</th>     <th>std err</th>      <th>t</th>      <th>P>|t|</th>  <th>[0.025</th>    <th>0.975]</th>  \n",
       "</tr>\n",
       "<tr>\n",
       "  <th>Intercept</th>   <td>    9.3667</td> <td>    0.946</td> <td>    9.896</td> <td> 0.000</td> <td>    7.493</td> <td>   11.240</td>\n",
       "</tr>\n",
       "<tr>\n",
       "  <th>desocupacao</th> <td>   -0.3077</td> <td>    0.087</td> <td>   -3.552</td> <td> 0.001</td> <td>   -0.479</td> <td>   -0.136</td>\n",
       "</tr>\n",
       "</table>\n",
       "<table class=\"simpletable\">\n",
       "<tr>\n",
       "  <th>Omnibus:</th>       <td>16.329</td> <th>  Durbin-Watson:     </th> <td>   0.037</td>\n",
       "</tr>\n",
       "<tr>\n",
       "  <th>Prob(Omnibus):</th> <td> 0.000</td> <th>  Jarque-Bera (JB):  </th> <td>  15.140</td>\n",
       "</tr>\n",
       "<tr>\n",
       "  <th>Skew:</th>          <td> 0.776</td> <th>  Prob(JB):          </th> <td>0.000516</td>\n",
       "</tr>\n",
       "<tr>\n",
       "  <th>Kurtosis:</th>      <td> 2.295</td> <th>  Cond. No.          </th> <td>    45.8</td>\n",
       "</tr>\n",
       "</table><br/><br/>Notes:<br/>[1] Standard Errors assume that the covariance matrix of the errors is correctly specified."
      ],
      "text/plain": [
       "<class 'statsmodels.iolib.summary.Summary'>\n",
       "\"\"\"\n",
       "                            OLS Regression Results                            \n",
       "==============================================================================\n",
       "Dep. Variable:                   ipca   R-squared:                       0.093\n",
       "Model:                            OLS   Adj. R-squared:                  0.086\n",
       "Method:                 Least Squares   F-statistic:                     12.61\n",
       "Date:                Mon, 26 Sep 2022   Prob (F-statistic):           0.000543\n",
       "Time:                        16:10:03   Log-Likelihood:                -292.98\n",
       "No. Observations:                 125   AIC:                             590.0\n",
       "Df Residuals:                     123   BIC:                             595.6\n",
       "Df Model:                           1                                         \n",
       "Covariance Type:            nonrobust                                         \n",
       "===============================================================================\n",
       "                  coef    std err          t      P>|t|      [0.025      0.975]\n",
       "-------------------------------------------------------------------------------\n",
       "Intercept       9.3667      0.946      9.896      0.000       7.493      11.240\n",
       "desocupacao    -0.3077      0.087     -3.552      0.001      -0.479      -0.136\n",
       "==============================================================================\n",
       "Omnibus:                       16.329   Durbin-Watson:                   0.037\n",
       "Prob(Omnibus):                  0.000   Jarque-Bera (JB):               15.140\n",
       "Skew:                           0.776   Prob(JB):                     0.000516\n",
       "Kurtosis:                       2.295   Cond. No.                         45.8\n",
       "==============================================================================\n",
       "\n",
       "Notes:\n",
       "[1] Standard Errors assume that the covariance matrix of the errors is correctly specified.\n",
       "\"\"\""
      ]
     },
     "execution_count": 50,
     "metadata": {},
     "output_type": "execute_result"
    }
   ],
   "source": [
    "modelo.summary()"
   ]
  },
  {
   "cell_type": "code",
   "execution_count": 51,
   "id": "0970b75f",
   "metadata": {},
   "outputs": [
    {
     "data": {
      "text/plain": [
       "<AxesSubplot:xlabel='desocupacao', ylabel='ipca'>"
      ]
     },
     "execution_count": 51,
     "metadata": {},
     "output_type": "execute_result"
    },
    {
     "data": {
      "image/png": "[encoded data removed]",
      "text/plain": [
       "<Figure size 432x288 with 1 Axes>"
      ]
     },
     "metadata": {
      "needs_background": "light"
     },
     "output_type": "display_data"
    }
   ],
   "source": [
    "sns.regplot(x = 'desocupacao',\n",
    "           y = 'ipca',\n",
    "           data = df_dados)"
   ]
  }
 ],
 "metadata": {
  "kernelspec": {
   "display_name": "Python 3 (ipykernel)",
   "language": "python",
   "name": "python3"
  },
  "language_info": {
   "codemirror_mode": {
    "name": "ipython",
    "version": 3
   },
   "file_extension": ".py",
   "mimetype": "text/x-python",
   "name": "python",
   "nbconvert_exporter": "python",
   "pygments_lexer": "ipython3",
   "version": "3.10.7"
  }
 },
 "nbformat": 4,
 "nbformat_minor": 5
}
